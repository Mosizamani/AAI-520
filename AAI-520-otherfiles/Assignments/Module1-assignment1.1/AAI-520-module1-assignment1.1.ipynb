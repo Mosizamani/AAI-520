{
 "cells": [
  {
   "cell_type": "markdown",
   "id": "bef282ef",
   "metadata": {},
   "source": [
    "Assignment 1.1: NLP Preprocessing: News Classification"
   ]
  },
  {
   "cell_type": "markdown",
   "id": "26de3ed9",
   "metadata": {},
   "source": [
    "Mostafa Zamaniturk"
   ]
  },
  {
   "cell_type": "markdown",
   "id": "1395fb5b",
   "metadata": {},
   "source": [
    "Instructions\n",
    "For this assignment, you will use the indicated dataset and implement the tasks described below in your Jupyter Notebook or Python script. You will submit your notebook or script as a PDF (preferred) or HTML document. "
   ]
  },
  {
   "cell_type": "markdown",
   "id": "ee8a6ee6",
   "metadata": {},
   "source": [
    "Required Dataset\n",
    "BBC News Classification Dataset (Kaggle) or sklearn.datasets.fetch_20newsgroups\n",
    "\n",
    "5 categories: Business, Entertainment, Politics, Sport, Tech\n",
    "~2,225 news articles"
   ]
  },
  {
   "cell_type": "markdown",
   "id": "eab6f3a5",
   "metadata": {},
   "source": [
    "Required Details\n",
    "\n",
    "Part 1: Data Exploration\n",
    "\n",
    "- Load the dataset and show basic statistics\n",
    "\n",
    "- Visualize article distribution by category\n",
    "\n",
    "- Display sample articles from each category\n"
   ]
  },
  {
   "cell_type": "code",
   "execution_count": 1,
   "id": "13f6a06e",
   "metadata": {},
   "outputs": [
    {
     "name": "stdout",
     "output_type": "stream",
     "text": [
      "Requirement already satisfied: pandas in /Users/mostafazamaniturk/.venvs/py313/lib/python3.13/site-packages (2.3.1)\n",
      "Requirement already satisfied: matplotlib in /Users/mostafazamaniturk/.venvs/py313/lib/python3.13/site-packages (3.10.3)\n",
      "Requirement already satisfied: numpy>=1.26.0 in /Users/mostafazamaniturk/.venvs/py313/lib/python3.13/site-packages (from pandas) (2.3.2)\n",
      "Requirement already satisfied: python-dateutil>=2.8.2 in /Users/mostafazamaniturk/.venvs/py313/lib/python3.13/site-packages (from pandas) (2.9.0.post0)\n",
      "Requirement already satisfied: pytz>=2020.1 in /Users/mostafazamaniturk/.venvs/py313/lib/python3.13/site-packages (from pandas) (2025.2)\n",
      "Requirement already satisfied: tzdata>=2022.7 in /Users/mostafazamaniturk/.venvs/py313/lib/python3.13/site-packages (from pandas) (2025.2)\n",
      "Requirement already satisfied: contourpy>=1.0.1 in /Users/mostafazamaniturk/.venvs/py313/lib/python3.13/site-packages (from matplotlib) (1.3.3)\n",
      "Requirement already satisfied: cycler>=0.10 in /Users/mostafazamaniturk/.venvs/py313/lib/python3.13/site-packages (from matplotlib) (0.12.1)\n",
      "Requirement already satisfied: fonttools>=4.22.0 in /Users/mostafazamaniturk/.venvs/py313/lib/python3.13/site-packages (from matplotlib) (4.59.0)\n",
      "Requirement already satisfied: kiwisolver>=1.3.1 in /Users/mostafazamaniturk/.venvs/py313/lib/python3.13/site-packages (from matplotlib) (1.4.8)\n",
      "Requirement already satisfied: packaging>=20.0 in /Users/mostafazamaniturk/.venvs/py313/lib/python3.13/site-packages (from matplotlib) (25.0)\n",
      "Requirement already satisfied: pillow>=8 in /Users/mostafazamaniturk/.venvs/py313/lib/python3.13/site-packages (from matplotlib) (11.3.0)\n",
      "Requirement already satisfied: pyparsing>=2.3.1 in /Users/mostafazamaniturk/.venvs/py313/lib/python3.13/site-packages (from matplotlib) (3.2.3)\n",
      "Requirement already satisfied: six>=1.5 in /Users/mostafazamaniturk/.venvs/py313/lib/python3.13/site-packages (from python-dateutil>=2.8.2->pandas) (1.17.0)\n"
     ]
    }
   ],
   "source": [
    "! pip install pandas matplotlib"
   ]
  },
  {
   "cell_type": "code",
   "execution_count": 2,
   "id": "5b4031b0",
   "metadata": {},
   "outputs": [
    {
     "name": "stdout",
     "output_type": "stream",
     "text": [
      "Dataset Shape: (1490, 3)\n",
      "\n",
      "Columns: ['ArticleId', 'Text', 'Category']\n",
      "\n",
      "Category Counts:\n",
      " Category\n",
      "sport            346\n",
      "business         336\n",
      "politics         274\n",
      "entertainment    273\n",
      "tech             261\n",
      "Name: count, dtype: int64\n",
      "\n",
      "Dataset Info:\n",
      "<class 'pandas.core.frame.DataFrame'>\n",
      "RangeIndex: 1490 entries, 0 to 1489\n",
      "Data columns (total 3 columns):\n",
      " #   Column     Non-Null Count  Dtype \n",
      "---  ------     --------------  ----- \n",
      " 0   ArticleId  1490 non-null   int64 \n",
      " 1   Text       1490 non-null   object\n",
      " 2   Category   1490 non-null   object\n",
      "dtypes: int64(1), object(2)\n",
      "memory usage: 35.1+ KB\n",
      "None\n",
      "\n",
      "Basic Statistics (text length):\n",
      "count     1490.000000\n",
      "mean      2233.461745\n",
      "std       1205.153358\n",
      "min        501.000000\n",
      "25%       1453.000000\n",
      "50%       1961.000000\n",
      "75%       2751.250000\n",
      "max      18387.000000\n",
      "Name: text_length, dtype: float64\n"
     ]
    },
    {
     "data": {
      "image/png": "[encoded data removed]",
      "text/plain": [
       "<Figure size 800x500 with 1 Axes>"
      ]
     },
     "metadata": {},
     "output_type": "display_data"
    },
    {
     "name": "stdout",
     "output_type": "stream",
     "text": [
      "================================================================================\n",
      "Category: business\n",
      "Sample text:\n",
      "\n",
      "nasdaq planning $100m share sale the owner of the technology-dominated nasdaq stock index plans to sell shares to the public and list itself on the market it operates.  according to a registration document filed with the securities and exchange commission  nasdaq stock market plans to raise $100m (£52m) from the sale. some observers see this as another step closer to a full public listing. however nasdaq  an icon of the 1990s technology boom  recently poured cold water on those suggestions.  the ...\n",
      "================================================================================\n",
      "Category: tech\n",
      "Sample text:\n",
      "\n",
      "reboot ordered for eu patent law a european parliament committee has ordered a rewrite of the proposals for controversial new european union rules which govern computer-based inventions.  the legal affairs committee (juri) said the commission should re-submit the computer implemented inventions directive after meps failed to back it. it has had vocal critics who say it could favour large over small firms and impact open-source software innovation. supporters say it would let firms protect their  ...\n",
      "================================================================================\n",
      "Category: politics\n",
      "Sample text:\n",
      "\n",
      "new  yob  targets to be unveiled fifty new areas getting special help to fight anti-social behaviour in england and wales will be named on thursday.  ten areas have already had access to special prosecutors and local experts and the government is now expanding the crackdown to more towns and cities. details of how many anti-social behaviour orders (asbos) were used in the last year are also being published. labour sees nuisance behaviour as a key election issue but critics claim the record is at ...\n",
      "================================================================================\n",
      "Category: sport\n",
      "Sample text:\n",
      "\n",
      "collins to compete in birmingham world and commonwealth 100m champion kim collins will compete in the 60m at the norwich union grand prix in birmingham on 18 february.  the st kitts and nevis star joins british olympic relay gold medallists jason gardener and mark lewis-francis. sydney olympic 100m champion and world indoor record holder maurice greene and athens olympic 100m silver medallist francis obikwelu will also take part. collins ran in birmingham at the 2003 world indoor championships.  ...\n",
      "================================================================================\n",
      "Category: entertainment\n",
      "Sample text:\n",
      "\n",
      "the producers scoops stage awards the producers has beaten mary poppins in the battle of the blockbuster west end musicals at the olivier awards.  the producers won three prizes at the uk s most prestigious annual theatre awards  while mary poppins won two. mel brooks  hit show triumphed in the battle for best new musical  where it was up against mary poppins and andrew lloyd webber s the woman in white. alan bennett s the history boys was the big winner in the straight theatre categories  picki ...\n"
     ]
    }
   ],
   "source": [
    "# Import libraries\n",
    "import pandas as pd\n",
    "import matplotlib.pyplot as plt\n",
    "\n",
    "# Load dataset\n",
    "file_path = \"BBC News Train.csv\"\n",
    "df = pd.read_csv(file_path)\n",
    "\n",
    "# Show basic dataset info\n",
    "print(\"Dataset Shape:\", df.shape)\n",
    "print(\"\\nColumns:\", df.columns.tolist())\n",
    "print(\"\\nCategory Counts:\\n\", df['Category'].value_counts())\n",
    "\n",
    "# Quick statistics\n",
    "print(\"\\nDataset Info:\")\n",
    "print(df.info())\n",
    "print(\"\\nBasic Statistics (text length):\")\n",
    "df['text_length'] = df['Text'].apply(len)\n",
    "print(df['text_length'].describe())\n",
    "\n",
    "# Visualize article distribution by category\n",
    "plt.figure(figsize=(8,5))\n",
    "df['Category'].value_counts().plot(kind='bar', color='skyblue', edgecolor='black')\n",
    "plt.title(\"Article Distribution by Category\")\n",
    "plt.xlabel(\"Category\")\n",
    "plt.ylabel(\"Number of Articles\")\n",
    "plt.xticks(rotation=45)\n",
    "plt.show()\n",
    "\n",
    "# Display sample articles from each category\n",
    "for category in df['Category'].unique():\n",
    "    print(\"=\"*80)\n",
    "    print(f\"Category: {category}\")\n",
    "    sample = df[df['Category'] == category].sample(1, random_state=42)  # pick one sample\n",
    "    print(\"Sample text:\\n\")\n",
    "    print(sample['Text'].values[0][:500], \"...\")  # first 500 chars\n"
   ]
  },
  {
   "cell_type": "markdown",
   "id": "ea6b6664",
   "metadata": {},
   "source": [
    "Part 2: Text Preprocessing \n",
    "- Create and compare 2 preprocessing pipelines:\n",
    "    - Basic: tokenization + lowercasing + stop word removal\n",
    "    - Advanced: Basic + stemming + lemmatization + POS filtering. Compare vocabulary size and processing time for both approaches.\n"
   ]
  },
  {
   "cell_type": "markdown",
   "id": "11c161c9",
   "metadata": {},
   "source": [
    "Basic: tokenization + lowercasing + stop word removal"
   ]
  },
  {
   "cell_type": "code",
   "execution_count": 9,
   "id": "7f808956",
   "metadata": {},
   "outputs": [
    {
     "name": "stdout",
     "output_type": "stream",
     "text": [
      "Collecting nltk\n",
      "  Using cached nltk-3.9.1-py3-none-any.whl.metadata (2.9 kB)\n",
      "Collecting click (from nltk)\n",
      "  Using cached click-8.2.1-py3-none-any.whl.metadata (2.5 kB)\n",
      "Requirement already satisfied: joblib in /Users/mostafazamaniturk/.venvs/py313/lib/python3.13/site-packages (from nltk) (1.5.1)\n",
      "Collecting regex>=2021.8.3 (from nltk)\n",
      "  Downloading regex-2025.9.1-cp313-cp313-macosx_11_0_arm64.whl.metadata (40 kB)\n",
      "Collecting tqdm (from nltk)\n",
      "  Using cached tqdm-4.67.1-py3-none-any.whl.metadata (57 kB)\n",
      "Using cached nltk-3.9.1-py3-none-any.whl (1.5 MB)\n",
      "Downloading regex-2025.9.1-cp313-cp313-macosx_11_0_arm64.whl (286 kB)\n",
      "Using cached click-8.2.1-py3-none-any.whl (102 kB)\n",
      "Using cached tqdm-4.67.1-py3-none-any.whl (78 kB)\n",
      "Installing collected packages: tqdm, regex, click, nltk\n",
      "\u001b[2K   \u001b[90m━━━━━━━━━━━━━━━━━━━━━━━━━━━━━━━━━━━━━━━━\u001b[0m \u001b[32m4/4\u001b[0m [nltk][32m3/4\u001b[0m [nltk]\n",
      "\u001b[1A\u001b[2KSuccessfully installed click-8.2.1 nltk-3.9.1 regex-2025.9.1 tqdm-4.67.1\n"
     ]
    }
   ],
   "source": [
    "! pip install nltk"
   ]
  },
  {
   "cell_type": "code",
   "execution_count": null,
   "id": "6449f9e9",
   "metadata": {},
   "outputs": [
    {
     "name": "stderr",
     "output_type": "stream",
     "text": [
      "[nltk_data] Downloading package punkt to\n",
      "[nltk_data]     /Users/mostafazamaniturk/nltk_data...\n",
      "[nltk_data]   Package punkt is already up-to-date!\n",
      "[nltk_data] Downloading package stopwords to\n",
      "[nltk_data]     /Users/mostafazamaniturk/nltk_data...\n",
      "[nltk_data]   Package stopwords is already up-to-date!\n"
     ]
    },
    {
     "name": "stdout",
     "output_type": "stream",
     "text": [
      "0    worldcom ex-boss launches defence lawyers defe...\n",
      "1    german business confidence slides german busin...\n",
      "2    bbc poll indicates economic gloom citizens in ...\n",
      "3    lifestyle  governs mobile choice  faster  bett...\n",
      "4    enron bosses in $168m payout eighteen former e...\n",
      "Name: Text, dtype: object\n",
      "   Category                                     processed_text\n",
      "0  business  [worldcom, launches, defence, lawyers, defendi...\n",
      "1  business  [german, business, confidence, slides, german,...\n",
      "2  business  [bbc, poll, indicates, economic, gloom, citize...\n",
      "3      tech  [lifestyle, governs, mobile, choice, faster, b...\n",
      "4  business  [enron, bosses, payout, eighteen, former, enro...\n"
     ]
    }
   ],
   "source": [
    "import nltk\n",
    "from nltk.tokenize import word_tokenize\n",
    "from nltk.corpus import stopwords\n",
    "\n",
    "# Download resources (run once)\n",
    "nltk.download('punkt')\n",
    "nltk.download('stopwords')\n",
    "\n",
    "# define a function to do all tokenization, Lowercasing and removing stopwords:\n",
    "def preprocess_text(text):\n",
    "    # Tokenization\n",
    "    tokens = word_tokenize(text)\n",
    "\n",
    "    # Lowercasing\n",
    "    tokens = [word.lower() for word in tokens]\n",
    "\n",
    "    # Remove stopwords and keep only alphabetic words\n",
    "    stop_words = set(stopwords.words('english'))\n",
    "    filtered_tokens = [word for word in tokens if word.isalpha() and word not in stop_words]\n",
    "\n",
    "    return filtered_tokens\n",
    "\n",
    "# Apply above function to the Text column\n",
    "df['processed_text'] = df['Text'].apply(preprocess_text)\n",
    "\n",
    "# Show the original text\n",
    "print(df['Text'].head())\n",
    "\n",
    "# Show first 5 processed samples\n",
    "print(df[['Category', 'processed_text']].head())\n"
   ]
  },
  {
   "cell_type": "markdown",
   "id": "5cd6b768",
   "metadata": {},
   "source": [
    "Advanced: Basic + stemming + lemmatization + POS filtering. Compare vocabulary size and processing time for both approaches."
   ]
  },
  {
   "cell_type": "code",
   "execution_count": 13,
   "id": "14d4934f",
   "metadata": {},
   "outputs": [
    {
     "name": "stderr",
     "output_type": "stream",
     "text": [
      "[nltk_data] Downloading package punkt to\n",
      "[nltk_data]     /Users/mostafazamaniturk/nltk_data...\n",
      "[nltk_data]   Package punkt is already up-to-date!\n",
      "[nltk_data] Downloading package stopwords to\n",
      "[nltk_data]     /Users/mostafazamaniturk/nltk_data...\n",
      "[nltk_data]   Package stopwords is already up-to-date!\n"
     ]
    },
    {
     "name": "stdout",
     "output_type": "stream",
     "text": [
      "🔹 Original:\n",
      " worldcom ex-boss launches defence lawyers defending former worldcom chief bernie ebbers against a battery of fraud charges have called a company whistleblower as their first witness.  cynthia cooper  worldcom s ex-head of internal accounting  alerted directors to irregular accounting practices at th ...\n",
      "\n",
      "🔹 Filtered:\n",
      " ['worldcom', 'launches', 'defence', 'lawyers', 'defending', 'former', 'worldcom', 'chief', 'bernie', 'ebbers', 'battery', 'fraud', 'charges', 'called', 'company', 'whistleblower', 'first', 'witness', 'cynthia', 'cooper'] \n",
      "\n",
      "🔹 Stemmed:\n",
      " ['worldcom', 'launch', 'defenc', 'lawyer', 'defend', 'former', 'worldcom', 'chief', 'berni', 'ebber', 'batteri', 'fraud', 'charg', 'call', 'compani', 'whistleblow', 'first', 'wit', 'cynthia', 'cooper'] \n",
      "\n",
      "🔹 Lemmatized:\n",
      " ['worldcom', 'launch', 'defence', 'lawyer', 'defend', 'former', 'worldcom', 'chief', 'bernie', 'ebbers', 'battery', 'fraud', 'charge', 'call', 'company', 'whistleblower', 'first', 'witness', 'cynthia', 'cooper'] \n",
      "\n",
      "🔹 POS Tags:\n",
      " [('worldcom', 'NN'), ('launches', 'VBZ'), ('defence', 'NN'), ('lawyers', 'NNS'), ('defending', 'VBG'), ('former', 'JJ'), ('worldcom', 'NN'), ('chief', 'NN'), ('bernie', 'NN'), ('ebbers', 'NNS'), ('battery', 'VBP'), ('fraud', 'NN'), ('charges', 'NNS'), ('called', 'VBN'), ('company', 'NN'), ('whistleblower', 'NN'), ('first', 'RB'), ('witness', 'JJ'), ('cynthia', 'NN'), ('cooper', 'NN')]\n"
     ]
    }
   ],
   "source": [
    "import nltk\n",
    "from nltk.tokenize import word_tokenize\n",
    "from nltk.corpus import stopwords\n",
    "from nltk.stem import PorterStemmer, WordNetLemmatizer\n",
    "from nltk import pos_tag\n",
    "from nltk.corpus import wordnet\n",
    "\n",
    "# Download resources (run once)\n",
    "nltk.download('punkt')\n",
    "nltk.download('stopwords')\n",
    "\n",
    "# Helper: map POS tags to WordNet format\n",
    "def get_wordnet_pos(tag):\n",
    "    if tag.startswith('J'):\n",
    "        return wordnet.ADJ\n",
    "    elif tag.startswith('V'):\n",
    "        return wordnet.VERB\n",
    "    elif tag.startswith('N'):\n",
    "        return wordnet.NOUN\n",
    "    elif tag.startswith('R'):\n",
    "        return wordnet.ADV\n",
    "    else:\n",
    "        return wordnet.NOUN  # default to noun\n",
    "\n",
    "\n",
    "# define a function to do all tokenization, Lowercasing and removing stopwords as basic\n",
    "# and stemming, lemmatization and POS tags:\n",
    "def preprocess_text(text):\n",
    "    # Tokenization\n",
    "    tokens = word_tokenize(text)\n",
    "\n",
    "    # Lowercasing\n",
    "    tokens = [word.lower() for word in tokens]\n",
    "\n",
    "    # Remove stopwords and keep only alphabetic words\n",
    "    stop_words = set(stopwords.words('english'))\n",
    "    filtered_tokens = [word for word in tokens if word.isalpha() and word not in stop_words]\n",
    "\n",
    "    # POS tagging\n",
    "    pos_tags = pos_tag(filtered_tokens)\n",
    "\n",
    "    # Stemming\n",
    "    stemmer = PorterStemmer()\n",
    "    stemmed_tokens = [stemmer.stem(word) for word in filtered_tokens]\n",
    "\n",
    "    # Lemmatization (with POS awareness)\n",
    "    lemmatizer = WordNetLemmatizer()\n",
    "    lemmatized_tokens = [lemmatizer.lemmatize(word, get_wordnet_pos(tag)) for word, tag in pos_tags]\n",
    "\n",
    "    return {\n",
    "        \"original\": text,\n",
    "        \"filtered\": filtered_tokens,\n",
    "        \"stemmed\": stemmed_tokens,\n",
    "        \"lemmatized\": lemmatized_tokens,\n",
    "        \"pos_tags\": pos_tags\n",
    "    }\n",
    "\n",
    "# Apply above function to the Text column\n",
    "df['processed'] = df['Text'].apply(preprocess_text)\n",
    "\n",
    "# Show comparison for one row\n",
    "sample = df['processed'].iloc[0]\n",
    "print(\"🔹 Original:\\n\", sample['original'][:300], \"...\\n\")\n",
    "print(\"🔹 Filtered:\\n\", sample['filtered'][:20], \"\\n\")\n",
    "print(\"🔹 Stemmed:\\n\", sample['stemmed'][:20], \"\\n\")\n",
    "print(\"🔹 Lemmatized:\\n\", sample['lemmatized'][:20], \"\\n\")\n",
    "print(\"🔹 POS Tags:\\n\", sample['pos_tags'][:20])"
   ]
  },
  {
   "cell_type": "markdown",
   "id": "bf183679",
   "metadata": {},
   "source": [
    "Part 3: Text Vectorization \n",
    "- Implement and compare:\n",
    "    - Bag of Words (CountVectorizer)\n",
    "    - TF-IDF (TfidfVectorizer)\n",
    "    - Word2Vec (both CBoW and Skip-gram, average word vectors for documents). Create visualizations comparing the methods.\n"
   ]
  },
  {
   "cell_type": "code",
   "execution_count": null,
   "id": "edce108e",
   "metadata": {},
   "outputs": [],
   "source": []
  },
  {
   "cell_type": "markdown",
   "id": "d03f6b85",
   "metadata": {},
   "source": [
    "Part 4: Classification \n",
    "- For each vectorization method, train:\n",
    "    - Logistic Regression\n",
    "    - Simple LSTM\n",
    "    \n",
    "Report accuracy, precision, recall, and F1-score for each combination."
   ]
  },
  {
   "cell_type": "code",
   "execution_count": null,
   "id": "028333dc",
   "metadata": {},
   "outputs": [],
   "source": []
  }
 ],
 "metadata": {
  "kernelspec": {
   "display_name": "Python 3.13",
   "language": "python",
   "name": "py313"
  },
  "language_info": {
   "codemirror_mode": {
    "name": "ipython",
    "version": 3
   },
   "file_extension": ".py",
   "mimetype": "text/x-python",
   "name": "python",
   "nbconvert_exporter": "python",
   "pygments_lexer": "ipython3",
   "version": "3.13.5"
  }
 },
 "nbformat": 4,
 "nbformat_minor": 5
}
