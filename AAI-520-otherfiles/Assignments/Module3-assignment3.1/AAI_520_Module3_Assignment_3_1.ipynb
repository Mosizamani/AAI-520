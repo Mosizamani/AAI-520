{
  "cells": [
    {
      "cell_type": "markdown",
      "metadata": {
        "id": "1iXWM_bmcS0o"
      },
      "source": [
        "Assignment 3.1\n",
        "\n",
        "Mostafa Zamaniturk"
      ]
    },
    {
      "cell_type": "markdown",
      "metadata": {
        "id": "yOKh9zrZcLo8"
      },
      "source": [
        "Instructions\n",
        "In this assignment, use the IMDb movie review dataset and the BERT model from the Transformers library to build a sentiment analysis model that predicts whether a movie review is positive or negative."
      ]
    },
    {
      "cell_type": "markdown",
      "metadata": {
        "id": "VPd9RIpVcbuz"
      },
      "source": [
        "Required Dataset\n",
        "Use the \"IMDB Dataset of 50K Movie Reviews\" Dataset linked below. This is a dataset for binary sentiment classification. It provides a set of 25,000 highly polar movie reviews for training and 25,000 for testing. The dataset contains movie reviews labeled as \"positive\" or \"negative.\"\n",
        "\n",
        "Download: IMDB DatasetLinks to an external site. [kaggle.com/datasets/lakshmi25npathi/imdb-dataset-of-50k-movie-reviews]"
      ]
    },
    {
      "cell_type": "markdown",
      "metadata": {
        "id": "RMArtVqhcfDi"
      },
      "source": [
        "Required Details"
      ]
    },
    {
      "cell_type": "markdown",
      "metadata": {
        "id": "U6x-xo1aciek"
      },
      "source": [
        "1- Text Preprocessing:\n",
        "Tokenize the movie reviews using the BERT tokenizer.\n",
        "Convert the tokenized reviews into input features suitable for BERT.\n"
      ]
    },
    {
      "cell_type": "code",
      "execution_count": 8,
      "metadata": {
        "colab": {
          "base_uri": "https://localhost:8080/"
        },
        "id": "BnPVXzOTeYln",
        "outputId": "7a06bc58-39d3-460a-ab04-4e48974068ba"
      },
      "outputs": [
        {
          "output_type": "stream",
          "name": "stdout",
          "text": [
            "Using Colab cache for faster access to the 'imdb-dataset-of-50k-movie-reviews' dataset.\n",
            "Path to dataset files: /kaggle/input/imdb-dataset-of-50k-movie-reviews\n",
            "Sample data:\n",
            "                                              review sentiment\n",
            "0  One of the other reviewers has mentioned that ...  positive\n",
            "1  A wonderful little production. <br /><br />The...  positive\n",
            "2  I thought this was a wonderful way to spend ti...  positive\n",
            "3  Basically there's a family where a little boy ...  negative\n",
            "4  Petter Mattei's \"Love in the Time of Money\" is...  positive\n",
            "Shapes:\n",
            "Input IDs: torch.Size([50000, 128])\n",
            "Attention mask: torch.Size([50000, 128])\n",
            "Token type IDs: torch.Size([50000, 128])\n",
            "Labels: torch.Size([50000])\n"
          ]
        }
      ],
      "source": [
        "# Import libraries\n",
        "import kagglehub\n",
        "import pandas as pd\n",
        "import torch\n",
        "from transformers import BertTokenizer\n",
        "\n",
        "# Download the latest version of the dataset\n",
        "path = kagglehub.dataset_download(\"lakshmi25npathi/imdb-dataset-of-50k-movie-reviews\")\n",
        "print(\"Path to dataset files:\", path)\n",
        "\n",
        "# Load dataset\n",
        "df = pd.read_csv(path + \"/IMDB Dataset.csv\")\n",
        "print(\"Sample data:\")\n",
        "print(df.head())\n",
        "\n",
        "# Initialize BERT tokenizer\n",
        "tokenizer = BertTokenizer.from_pretrained(\"bert-base-uncased\")\n",
        "\n",
        "# Tokenize and encode the reviews\n",
        "max_length = 128  # can adjust (128, 256, 512 depending on training needs)\n",
        "encodings = tokenizer(\n",
        "    df[\"review\"].tolist(),\n",
        "    truncation=True,\n",
        "    padding=\"max_length\",\n",
        "    max_length=max_length,\n",
        "    return_tensors=\"pt\"\n",
        ")\n",
        "\n",
        "# Convert labels (positive → 1, negative → 0)\n",
        "labels = torch.tensor([1 if sentiment == \"positive\" else 0 for sentiment in df[\"sentiment\"]])\n",
        "\n",
        "# Extract BERT input features\n",
        "input_ids = encodings[\"input_ids\"]\n",
        "attention_mask = encodings[\"attention_mask\"]\n",
        "token_type_ids = encodings[\"token_type_ids\"]\n",
        "\n",
        "print(\"Shapes:\")\n",
        "print(\"Input IDs:\", input_ids.shape)\n",
        "print(\"Attention mask:\", attention_mask.shape)\n",
        "print(\"Token type IDs:\", token_type_ids.shape)\n",
        "print(\"Labels:\", labels.shape)"
      ]
    },
    {
      "cell_type": "markdown",
      "source": [
        "The raw movie reviews are first tokenized using the BERT tokenizer, which splits text into subword tokens and maps them to numerical IDs. These tokenized reviews are then padded, truncated, and converted into input features such as input_ids, attention_mask, and token_type_ids, making them suitable for feeding into the BERT model."
      ],
      "metadata": {
        "id": "TkJh6sNAe9tB"
      }
    },
    {
      "cell_type": "markdown",
      "metadata": {
        "id": "ClcCRGbjclTS"
      },
      "source": [
        "2- Model Training:\n",
        "Load the pre-trained BERT model for sequence classification from the Transformers library.\n",
        "Fine-tune the BERT model on the preprocessed IMDb dataset for sentiment analysis.\n",
        "Implement training loops and loss calculation."
      ]
    },
    {
      "cell_type": "code",
      "execution_count": 9,
      "metadata": {
        "colab": {
          "base_uri": "https://localhost:8080/"
        },
        "id": "U4St5z2PkybV",
        "outputId": "02f8c2db-28bd-494d-94da-5ef3c063224b"
      },
      "outputs": [
        {
          "output_type": "stream",
          "name": "stdout",
          "text": [
            "Using device: cuda\n"
          ]
        },
        {
          "output_type": "stream",
          "name": "stderr",
          "text": [
            "Some weights of BertForSequenceClassification were not initialized from the model checkpoint at bert-base-uncased and are newly initialized: ['classifier.bias', 'classifier.weight']\n",
            "You should probably TRAIN this model on a down-stream task to be able to use it for predictions and inference.\n"
          ]
        },
        {
          "output_type": "stream",
          "name": "stdout",
          "text": [
            "\n",
            "Epoch 1/2\n"
          ]
        },
        {
          "output_type": "stream",
          "name": "stderr",
          "text": [
            "Training: 100%|██████████| 2500/2500 [03:23<00:00, 12.30it/s]\n"
          ]
        },
        {
          "output_type": "stream",
          "name": "stdout",
          "text": [
            "Average training loss: 0.3121\n",
            "\n",
            "Epoch 2/2\n"
          ]
        },
        {
          "output_type": "stream",
          "name": "stderr",
          "text": [
            "Training: 100%|██████████| 2500/2500 [03:22<00:00, 12.32it/s]\n"
          ]
        },
        {
          "output_type": "stream",
          "name": "stdout",
          "text": [
            "Average training loss: 0.1867\n"
          ]
        },
        {
          "output_type": "stream",
          "name": "stderr",
          "text": [
            "Testing: 100%|██████████| 625/625 [00:16<00:00, 38.33it/s]"
          ]
        },
        {
          "output_type": "stream",
          "name": "stdout",
          "text": [
            "\n",
            "Test loss: 0.2570\n",
            "Test accuracy: 0.8915\n"
          ]
        },
        {
          "output_type": "stream",
          "name": "stderr",
          "text": [
            "\n"
          ]
        }
      ],
      "source": [
        "import torch\n",
        "from torch.utils.data import TensorDataset, DataLoader, random_split\n",
        "from transformers import BertForSequenceClassification\n",
        "from torch.optim import AdamW\n",
        "from tqdm import tqdm\n",
        "\n",
        "# Check GPU availability\n",
        "device = torch.device(\"cuda\" if torch.cuda.is_available() else \"cpu\")\n",
        "print(\"Using device:\", device)\n",
        "\n",
        "# Create dataset\n",
        "dataset = TensorDataset(input_ids, attention_mask, token_type_ids, labels)\n",
        "\n",
        "# Train/Test split (80% train, 20% test)\n",
        "train_size = int(0.8 * len(dataset))\n",
        "test_size = len(dataset) - train_size\n",
        "train_dataset, test_dataset = random_split(dataset, [train_size, test_size])\n",
        "\n",
        "# Dataloaders\n",
        "batch_size = 16\n",
        "train_loader = DataLoader(train_dataset, batch_size=batch_size, shuffle=True)\n",
        "test_loader = DataLoader(test_dataset, batch_size=batch_size)\n",
        "\n",
        "# Load pre-trained BERT for classification\n",
        "model = BertForSequenceClassification.from_pretrained(\"bert-base-uncased\", num_labels=2)\n",
        "model.to(device)\n",
        "\n",
        "# Optimizer\n",
        "optimizer = AdamW(model.parameters(), lr=2e-5)\n",
        "\n",
        "# Loss function\n",
        "criterion = torch.nn.CrossEntropyLoss()\n",
        "\n",
        "# Training loop\n",
        "epochs = 2\n",
        "for epoch in range(epochs):\n",
        "    print(f\"\\nEpoch {epoch+1}/{epochs}\")\n",
        "\n",
        "    model.train()\n",
        "    total_loss = 0\n",
        "    for batch in tqdm(train_loader, desc=\"Training\"):\n",
        "        b_input_ids, b_attention_mask, b_token_type_ids, b_labels = [x.to(device) for x in batch]\n",
        "\n",
        "        optimizer.zero_grad()\n",
        "        outputs = model(\n",
        "            input_ids=b_input_ids,\n",
        "            attention_mask=b_attention_mask,\n",
        "            token_type_ids=b_token_type_ids,\n",
        "            labels=b_labels\n",
        "        )\n",
        "        loss = outputs.loss\n",
        "        logits = outputs.logits\n",
        "\n",
        "        loss.backward()\n",
        "        optimizer.step()\n",
        "        total_loss += loss.item()\n",
        "\n",
        "    avg_train_loss = total_loss / len(train_loader)\n",
        "    print(f\"Average training loss: {avg_train_loss:.4f}\")\n",
        "\n",
        "# Testing loop\n",
        "model.eval()\n",
        "correct, total = 0, 0\n",
        "test_loss = 0\n",
        "with torch.no_grad():\n",
        "    for batch in tqdm(test_loader, desc=\"Testing\"):\n",
        "        b_input_ids, b_attention_mask, b_token_type_ids, b_labels = [x.to(device) for x in batch]\n",
        "\n",
        "        outputs = model(\n",
        "            input_ids=b_input_ids,\n",
        "            attention_mask=b_attention_mask,\n",
        "            token_type_ids=b_token_type_ids,\n",
        "            labels=b_labels\n",
        "        )\n",
        "        loss = outputs.loss\n",
        "        logits = outputs.logits\n",
        "\n",
        "        test_loss += loss.item()\n",
        "        preds = torch.argmax(logits, dim=1)\n",
        "        correct += (preds == b_labels).sum().item()\n",
        "        total += b_labels.size(0)\n",
        "\n",
        "avg_test_loss = test_loss / len(test_loader)\n",
        "accuracy = correct / total\n",
        "\n",
        "print(f\"\\nTest loss: {avg_test_loss:.4f}\")\n",
        "print(f\"Test accuracy: {accuracy:.4f}\")"
      ]
    },
    {
      "cell_type": "markdown",
      "source": [
        "A pre-trained BERT model for sequence classification is loaded from the Transformers library. The model is fine-tuned on the IMDb dataset by passing the preprocessed reviews through it, calculating the classification loss, and updating the weights with backpropagation. This training loop allows the model to adapt its knowledge to the specific task of sentiment analysis."
      ],
      "metadata": {
        "id": "gJ5J1nKxfCDt"
      }
    },
    {
      "cell_type": "markdown",
      "metadata": {
        "id": "XcVb1qHBcsbp"
      },
      "source": [
        "3- Evaluation:\n",
        "Split the dataset into training and testing sets.\n",
        "Evaluate the trained model on the testing set using accuracy, precision, recall, and F1-score metrics."
      ]
    },
    {
      "cell_type": "code",
      "execution_count": 10,
      "metadata": {
        "id": "m8ws9pzQc57_",
        "colab": {
          "base_uri": "https://localhost:8080/"
        },
        "outputId": "97f240ba-e8e9-4cce-afec-71649c09c457"
      },
      "outputs": [
        {
          "output_type": "stream",
          "name": "stderr",
          "text": [
            "Some weights of BertForSequenceClassification were not initialized from the model checkpoint at bert-base-uncased and are newly initialized: ['classifier.bias', 'classifier.weight']\n",
            "You should probably TRAIN this model on a down-stream task to be able to use it for predictions and inference.\n"
          ]
        },
        {
          "output_type": "stream",
          "name": "stdout",
          "text": [
            "Accuracy: 0.5024\n",
            "Precision: 0.4907\n",
            "Recall: 0.0423\n",
            "F1-score: 0.0778\n"
          ]
        }
      ],
      "source": [
        "from sklearn.metrics import accuracy_score, precision_score, recall_score, f1_score\n",
        "import torch\n",
        "from torch.utils.data import TensorDataset, DataLoader, random_split\n",
        "from transformers import BertForSequenceClassification\n",
        "\n",
        "# Device\n",
        "device = torch.device(\"cuda\" if torch.cuda.is_available() else \"cpu\")\n",
        "\n",
        "# Dataset already prepared: input_ids, attention_mask, token_type_ids, labels\n",
        "dataset = TensorDataset(input_ids, attention_mask, token_type_ids, labels)\n",
        "\n",
        "# Train/Test split (80% train, 20% test)\n",
        "train_size = int(0.8 * len(dataset))\n",
        "test_size = len(dataset) - train_size\n",
        "train_dataset, test_dataset = random_split(dataset, [train_size, test_size])\n",
        "\n",
        "# Dataloader for test\n",
        "batch_size = 16\n",
        "test_loader = DataLoader(test_dataset, batch_size=batch_size)\n",
        "\n",
        "# Load your trained model (if not already in memory, otherwise skip)\n",
        "model = BertForSequenceClassification.from_pretrained(\"bert-base-uncased\", num_labels=2)\n",
        "model.to(device)\n",
        "\n",
        "# Make sure model is in eval mode\n",
        "model.eval()\n",
        "\n",
        "# Collect predictions and true labels\n",
        "all_preds = []\n",
        "all_labels = []\n",
        "\n",
        "with torch.no_grad():\n",
        "    for batch in test_loader:\n",
        "        b_input_ids, b_attention_mask, b_token_type_ids, b_labels = [x.to(device) for x in batch]\n",
        "\n",
        "        outputs = model(\n",
        "            input_ids=b_input_ids,\n",
        "            attention_mask=b_attention_mask,\n",
        "            token_type_ids=b_token_type_ids\n",
        "        )\n",
        "        logits = outputs.logits\n",
        "        preds = torch.argmax(logits, dim=1)\n",
        "\n",
        "        all_preds.extend(preds.cpu().numpy())\n",
        "        all_labels.extend(b_labels.cpu().numpy())\n",
        "\n",
        "# Calculate metrics\n",
        "accuracy = accuracy_score(all_labels, all_preds)\n",
        "precision = precision_score(all_labels, all_preds)\n",
        "recall = recall_score(all_labels, all_preds)\n",
        "f1 = f1_score(all_labels, all_preds)\n",
        "\n",
        "print(f\"Accuracy: {accuracy:.4f}\")\n",
        "print(f\"Precision: {precision:.4f}\")\n",
        "print(f\"Recall: {recall:.4f}\")\n",
        "print(f\"F1-score: {f1:.4f}\")\n"
      ]
    },
    {
      "cell_type": "code",
      "source": [
        "import matplotlib.pyplot as plt\n",
        "\n",
        "accuracy, precision, recall, f1 = 0.5024, 0.4907, 0.0423, 0.0778\n",
        "\n",
        "metrics = {\n",
        "    \"Accuracy\": accuracy,\n",
        "    \"Precision\": precision,\n",
        "    \"Recall\": recall,\n",
        "    \"F1-score\": f1\n",
        "}\n",
        "\n",
        "# Plot bar chart\n",
        "plt.figure(figsize=(8, 6))\n",
        "plt.bar(metrics.keys(), metrics.values(), color=[\"#4C72B0\", \"#55A868\", \"#C44E52\", \"#8172B2\"])\n",
        "plt.title(\"BERT Sentiment Classifier Evaluation Metrics\")\n",
        "plt.ylabel(\"Score\")\n",
        "plt.ylim(0, 1)  # metrics are between 0 and 1\n",
        "\n",
        "# Show metric values on top of bars\n",
        "for i, (metric, value) in enumerate(metrics.items()):\n",
        "    plt.text(i, value + 0.02, f\"{value:.2f}\", ha='center')\n",
        "\n",
        "plt.show()"
      ],
      "metadata": {
        "colab": {
          "base_uri": "https://localhost:8080/",
          "height": 545
        },
        "id": "0AsOocx1n0oh",
        "outputId": "1f46a200-dae7-4efb-ad82-6fff55c16dfa"
      },
      "execution_count": 25,
      "outputs": [
        {
          "output_type": "display_data",
          "data": {
            "text/plain": [
              "<Figure size 800x600 with 1 Axes>"
            ],
            "image/png": "[encoded data removed]"
          },
          "metadata": {}
        }
      ]
    },
    {
      "cell_type": "markdown",
      "source": [
        "The dataset is split into training and testing sets to measure the model’s performance. After training, the model is evaluated on the test set using common classification metrics such as accuracy, precision, recall, and F1-score. These metrics give a clear picture of how well the model generalizes to unseen data."
      ],
      "metadata": {
        "id": "cq8_XVanfICV"
      }
    },
    {
      "cell_type": "markdown",
      "metadata": {
        "id": "rnOXbhQHc2_u"
      },
      "source": [
        "4- Predictions:\n",
        "Use the trained model to predict sentiments for a set of sample movie reviews."
      ]
    },
    {
      "cell_type": "code",
      "execution_count": 23,
      "metadata": {
        "id": "r86_2DnvbCnE",
        "colab": {
          "base_uri": "https://localhost:8080/"
        },
        "outputId": "be82bcd9-c5c1-425b-e86e-e2991d58a5c9"
      },
      "outputs": [
        {
          "output_type": "stream",
          "name": "stdout",
          "text": [
            "Review: I absolutely loved this movie! The acting was brilliant and the story was gripping.\n",
            "Predicted sentiment: negative\n",
            "\n",
            "Review: This was a terrible movie. I wasted two hours of my life.\n",
            "Predicted sentiment: negative\n",
            "\n",
            "Review: It was okay, not great but not bad either.\n",
            "Predicted sentiment: negative\n",
            "\n",
            "Review: The plot was amazing but the acting was mediocre.\n",
            "Predicted sentiment: negative\n",
            "\n"
          ]
        }
      ],
      "source": [
        "# Sample reviews for prediction\n",
        "sample_reviews = [\n",
        "    \"I absolutely loved this movie! The acting was brilliant and the story was gripping.\",\n",
        "    \"This was a terrible movie. I wasted two hours of my life.\",\n",
        "    \"It was okay, not great but not bad either.\",\n",
        "    \"The plot was amazing but the acting was mediocre.\"\n",
        "]\n",
        "\n",
        "# Tokenize and encode using the same tokenizer and max_length\n",
        "sample_encodings = tokenizer(\n",
        "    sample_reviews,\n",
        "    truncation=True,\n",
        "    padding=\"max_length\",\n",
        "    max_length=max_length,\n",
        "    return_tensors=\"pt\"\n",
        ")\n",
        "\n",
        "# Move to device\n",
        "input_ids_sample = sample_encodings[\"input_ids\"].to(device)\n",
        "attention_mask_sample = sample_encodings[\"attention_mask\"].to(device)\n",
        "token_type_ids_sample = sample_encodings[\"token_type_ids\"].to(device)\n",
        "\n",
        "# Model prediction\n",
        "model.eval()\n",
        "with torch.no_grad():\n",
        "    outputs = model(\n",
        "        input_ids=input_ids_sample,\n",
        "        attention_mask=attention_mask_sample,\n",
        "        token_type_ids=token_type_ids_sample\n",
        "    )\n",
        "    logits = outputs.logits\n",
        "    preds = torch.argmax(logits, dim=1)\n",
        "\n",
        "# Convert predictions to labels\n",
        "pred_labels = [\"positive\" if p == 1 else \"negative\" for p in preds.cpu().numpy()]\n",
        "\n",
        "# Display results\n",
        "for review, label in zip(sample_reviews, pred_labels):\n",
        "    print(f\"Review: {review}\\nPredicted sentiment: {label}\\n\")\n"
      ]
    },
    {
      "cell_type": "markdown",
      "source": [
        "Finally, the trained model is applied to a few new, unseen movie reviews. The text is tokenized and encoded in the same way as the training data, then passed into the model to produce predictions. The raw outputs (logits) are converted into class labels (positive or negative sentiment) and displayed alongside the original reviews."
      ],
      "metadata": {
        "id": "XqKiz4YWfMM-"
      }
    },
    {
      "cell_type": "markdown",
      "metadata": {
        "id": "G3Ab-tNoc_XT"
      },
      "source": [
        "\n",
        "\n",
        "\n",
        "Required Deliverable\n",
        "Prepare and format your notebook for final submission as a PDF or an HTML document. Display code and (clean) outputs that include the following:\n",
        "\n",
        "Data loading and preprocessing.\n",
        "Text tokenization and conversion to BERT input features.\n",
        "Model definition, training, and evaluation.\n",
        "Sample movie review predictions and explanations.\n",
        "Convert your Jupyter Notebook or Python script to a single, clean PDF or HTML document file. Your deliverable should contain your implementations of the tasks above, as well as any additional comments or observations you may have. Please ensure the PDF or HTML document file displays the code and output appropriately."
      ]
    }
  ],
  "metadata": {
    "colab": {
      "provenance": [],
      "gpuType": "A100"
    },
    "kernelspec": {
      "display_name": "Python 3.10",
      "language": "python",
      "name": "py311"
    },
    "language_info": {
      "codemirror_mode": {
        "name": "ipython",
        "version": 3
      },
      "file_extension": ".py",
      "mimetype": "text/x-python",
      "name": "python",
      "nbconvert_exporter": "python",
      "pygments_lexer": "ipython3",
      "version": "3.13.5"
    },
    "accelerator": "GPU"
  },
  "nbformat": 4,
  "nbformat_minor": 0
}