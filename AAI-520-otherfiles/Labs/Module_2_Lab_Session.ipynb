{
  "cells": [
    {
      "cell_type": "code",
      "execution_count": 8,
      "metadata": {
        "id": "jQ2vIMaeL61_"
      },
      "outputs": [],
      "source": [
        "import pandas as pd\n",
        "import spacy\n",
        "from spacy import displacy\n",
        "\n",
        "# Load the English language model\n",
        "nlp = spacy.load('en_core_web_sm')"
      ]
    },
    {
      "cell_type": "code",
      "execution_count": 9,
      "metadata": {
        "colab": {
          "base_uri": "https://localhost:8080/"
        },
        "id": "u8zwztcfMHSH",
        "outputId": "71f56070-d0cb-443b-de4e-6ca0af30bc21"
      },
      "outputs": [
        {
          "name": "stdout",
          "output_type": "stream",
          "text": [
            "  % Total    % Received % Xferd  Average Speed   Time    Time     Time  Current\n",
            "                                 Dload  Upload   Total   Spent    Left  Speed\n",
            "100 14.6M  100 14.6M    0     0  2597k      0  0:00:05  0:00:05 --:--:-- 2739k\n"
          ]
        }
      ],
      "source": [
        "! curl -L -o Amazon_Unlocked_Mobile_small_Part_II.csv \"https://raw.githubusercontent.com/MFuchs1989/Datasets-and-Miscellaneous/main/datasets/NLP/Text%20Pre-Processing%20III%20(POS%2C%20NER%20and%20Normalization)/Amazon_Unlocked_Mobile_small_Part_II.csv\"\n",
        "\n",
        "#! wget 'https://raw.githubusercontent.com/MFuchs1989/Datasets-and-Miscellaneous/main/datasets/NLP/Text%20Pre-Processing%20III%20(POS%2C%20NER%20and%20Normalization)/Amazon_Unlocked_Mobile_small_Part_II.csv'"
      ]
    },
    {
      "cell_type": "code",
      "execution_count": 10,
      "metadata": {
        "colab": {
          "base_uri": "https://localhost:8080/",
          "height": 320
        },
        "id": "_Wp5xuWGOWs_",
        "outputId": "c3c938bc-d095-4f6b-a72d-66456318c948"
      },
      "outputs": [
        {
          "data": {
            "text/html": [
              "<div>\n",
              "<style scoped>\n",
              "    .dataframe tbody tr th:only-of-type {\n",
              "        vertical-align: middle;\n",
              "    }\n",
              "\n",
              "    .dataframe tbody tr th {\n",
              "        vertical-align: top;\n",
              "    }\n",
              "\n",
              "    .dataframe thead th {\n",
              "        text-align: right;\n",
              "    }\n",
              "</style>\n",
              "<table border=\"1\" class=\"dataframe\">\n",
              "  <thead>\n",
              "    <tr style=\"text-align: right;\">\n",
              "      <th></th>\n",
              "      <th>Rating</th>\n",
              "      <th>Reviews</th>\n",
              "      <th>Clean_Reviews</th>\n",
              "      <th>Word_Count</th>\n",
              "      <th>Reviews_Tokenized</th>\n",
              "      <th>Token_Count</th>\n",
              "      <th>Reviews_wo_Stop_Words</th>\n",
              "      <th>Word_Count_wo_Stop_Words</th>\n",
              "    </tr>\n",
              "  </thead>\n",
              "  <tbody>\n",
              "    <tr>\n",
              "      <th>0</th>\n",
              "      <td>5</td>\n",
              "      <td>I feel so LUCKY to have found this used (phone...</td>\n",
              "      <td>i feel so lucky to have found this used phone ...</td>\n",
              "      <td>70</td>\n",
              "      <td>['i', 'feel', 'so', 'lucky', 'to', 'have', 'fo...</td>\n",
              "      <td>70</td>\n",
              "      <td>feel lucky found used phone us used hard phone...</td>\n",
              "      <td>36</td>\n",
              "    </tr>\n",
              "    <tr>\n",
              "      <th>1</th>\n",
              "      <td>4</td>\n",
              "      <td>nice phone, nice up grade from my pantach revu...</td>\n",
              "      <td>nice phone nice up grade from my pantach revue...</td>\n",
              "      <td>40</td>\n",
              "      <td>['nice', 'phone', 'nice', 'up', 'grade', 'from...</td>\n",
              "      <td>40</td>\n",
              "      <td>nice phone nice grade pantach revue clean set ...</td>\n",
              "      <td>24</td>\n",
              "    </tr>\n",
              "    <tr>\n",
              "      <th>2</th>\n",
              "      <td>5</td>\n",
              "      <td>Very pleased</td>\n",
              "      <td>very pleased</td>\n",
              "      <td>2</td>\n",
              "      <td>['very', 'pleased']</td>\n",
              "      <td>2</td>\n",
              "      <td>pleased</td>\n",
              "      <td>1</td>\n",
              "    </tr>\n",
              "    <tr>\n",
              "      <th>3</th>\n",
              "      <td>4</td>\n",
              "      <td>It works good but it goes slow sometimes but i...</td>\n",
              "      <td>it works good but it goes slow sometimes but i...</td>\n",
              "      <td>17</td>\n",
              "      <td>['it', 'works', 'good', 'but', 'it', 'goes', '...</td>\n",
              "      <td>17</td>\n",
              "      <td>works good goes slow sometimes good phone love</td>\n",
              "      <td>8</td>\n",
              "    </tr>\n",
              "    <tr>\n",
              "      <th>4</th>\n",
              "      <td>4</td>\n",
              "      <td>Great phone to replace my lost phone. The only...</td>\n",
              "      <td>great phone to replace my lost phone the only ...</td>\n",
              "      <td>44</td>\n",
              "      <td>['great', 'phone', 'to', 'replace', 'my', 'los...</td>\n",
              "      <td>44</td>\n",
              "      <td>great phone replace lost phone thing volume bu...</td>\n",
              "      <td>18</td>\n",
              "    </tr>\n",
              "  </tbody>\n",
              "</table>\n",
              "</div>"
            ],
            "text/plain": [
              "   Rating                                            Reviews  \\\n",
              "0       5  I feel so LUCKY to have found this used (phone...   \n",
              "1       4  nice phone, nice up grade from my pantach revu...   \n",
              "2       5                                       Very pleased   \n",
              "3       4  It works good but it goes slow sometimes but i...   \n",
              "4       4  Great phone to replace my lost phone. The only...   \n",
              "\n",
              "                                       Clean_Reviews  Word_Count  \\\n",
              "0  i feel so lucky to have found this used phone ...          70   \n",
              "1  nice phone nice up grade from my pantach revue...          40   \n",
              "2                                       very pleased           2   \n",
              "3  it works good but it goes slow sometimes but i...          17   \n",
              "4  great phone to replace my lost phone the only ...          44   \n",
              "\n",
              "                                   Reviews_Tokenized  Token_Count  \\\n",
              "0  ['i', 'feel', 'so', 'lucky', 'to', 'have', 'fo...           70   \n",
              "1  ['nice', 'phone', 'nice', 'up', 'grade', 'from...           40   \n",
              "2                                ['very', 'pleased']            2   \n",
              "3  ['it', 'works', 'good', 'but', 'it', 'goes', '...           17   \n",
              "4  ['great', 'phone', 'to', 'replace', 'my', 'los...           44   \n",
              "\n",
              "                               Reviews_wo_Stop_Words  Word_Count_wo_Stop_Words  \n",
              "0  feel lucky found used phone us used hard phone...                        36  \n",
              "1  nice phone nice grade pantach revue clean set ...                        24  \n",
              "2                                            pleased                         1  \n",
              "3     works good goes slow sometimes good phone love                         8  \n",
              "4  great phone replace lost phone thing volume bu...                        18  "
            ]
          },
          "execution_count": 10,
          "metadata": {},
          "output_type": "execute_result"
        }
      ],
      "source": [
        "df=pd.read_csv('Amazon_Unlocked_Mobile_small_Part_II.csv')\n",
        "df.head()"
      ]
    },
    {
      "cell_type": "code",
      "execution_count": 11,
      "metadata": {
        "id": "YAk64g8xUyN5"
      },
      "outputs": [],
      "source": [
        "df['Reviews_wo_Stop_Words'] = df['Reviews_wo_Stop_Words'].astype(str)"
      ]
    },
    {
      "cell_type": "code",
      "execution_count": 12,
      "metadata": {
        "colab": {
          "base_uri": "https://localhost:8080/"
        },
        "id": "I6k883KkUyLa",
        "outputId": "8c5bb71c-0ee8-4b5e-fcf5-a263e3ebd78a"
      },
      "outputs": [
        {
          "data": {
            "text/plain": [
              "0        feel lucky found used phone us used hard phone...\n",
              "1        nice phone nice grade pantach revue clean set ...\n",
              "2                                                  pleased\n",
              "3           works good goes slow sometimes good phone love\n",
              "4        great phone replace lost phone thing volume bu...\n",
              "                               ...                        \n",
              "19995                                     technical issues\n",
              "19996    works well shipped quickly still working great...\n",
              "19997    phone looked brand new one month working fine ...\n",
              "19998                                     hold charge dies\n",
              "19999    phone month satisfied whole knowing used expec...\n",
              "Name: Reviews_wo_Stop_Words, Length: 20000, dtype: object"
            ]
          },
          "execution_count": 12,
          "metadata": {},
          "output_type": "execute_result"
        }
      ],
      "source": [
        "df['Reviews_wo_Stop_Words']"
      ]
    },
    {
      "cell_type": "code",
      "execution_count": 13,
      "metadata": {
        "colab": {
          "base_uri": "https://localhost:8080/",
          "height": 54
        },
        "id": "r0sLlCDfUyJE",
        "outputId": "6d37348f-6e64-4e47-dc38-f6a7318b963e"
      },
      "outputs": [
        {
          "data": {
            "text/plain": [
              "'feel lucky found used phone us used hard phone line someone upgraded sold one son liked old one finally fell apart years want upgrade thank seller really appreciate honesty said used phone recommend seller highly would'"
            ]
          },
          "execution_count": 13,
          "metadata": {},
          "output_type": "execute_result"
        }
      ],
      "source": [
        "df['Reviews_wo_Stop_Words'][0]"
      ]
    },
    {
      "cell_type": "code",
      "execution_count": 14,
      "metadata": {
        "colab": {
          "base_uri": "https://localhost:8080/",
          "height": 36
        },
        "id": "yQkKRcehUyGW",
        "outputId": "0ac25c29-6be6-4f53-dfde-a5b502b0f01f"
      },
      "outputs": [
        {
          "data": {
            "text/plain": [
              "'works well shipped quickly still working great months later happy purchase one drawback home button iphone square cares phone works'"
            ]
          },
          "execution_count": 14,
          "metadata": {},
          "output_type": "execute_result"
        }
      ],
      "source": [
        "text_column = df['Reviews_wo_Stop_Words'][19996]   # Replace with the name of your text column\n",
        "text_column"
      ]
    },
    {
      "cell_type": "code",
      "execution_count": 15,
      "metadata": {
        "id": "-p5xsQJNUyDQ"
      },
      "outputs": [],
      "source": [
        " # Process the text with the language model\n",
        "doc = nlp(text_column)"
      ]
    },
    {
      "cell_type": "code",
      "execution_count": 16,
      "metadata": {
        "colab": {
          "base_uri": "https://localhost:8080/"
        },
        "id": "l-fbB0E6Ux7X",
        "outputId": "a99d0a1f-0ef1-4897-ae6b-57f8006c13b7"
      },
      "outputs": [
        {
          "data": {
            "text/plain": [
              "[('one', 'CARDINAL')]"
            ]
          },
          "execution_count": 16,
          "metadata": {},
          "output_type": "execute_result"
        }
      ],
      "source": [
        "# Perform Named Entity Recognition (NER)\n",
        "entities = [(ent.text, ent.label_) for ent in doc.ents]\n",
        "entities"
      ]
    },
    {
      "cell_type": "code",
      "execution_count": 17,
      "metadata": {
        "colab": {
          "base_uri": "https://localhost:8080/"
        },
        "id": "QYMktElzQjoI",
        "outputId": "a09ee5ef-5dc7-45dd-e550-4e098b7354c9"
      },
      "outputs": [
        {
          "data": {
            "text/plain": [
              "[('works', 'VERB'),\n",
              " ('well', 'ADV'),\n",
              " ('shipped', 'VERB'),\n",
              " ('quickly', 'ADV'),\n",
              " ('still', 'ADV'),\n",
              " ('working', 'VERB'),\n",
              " ('great', 'ADJ'),\n",
              " ('months', 'NOUN'),\n",
              " ('later', 'ADV'),\n",
              " ('happy', 'ADJ'),\n",
              " ('purchase', 'VERB'),\n",
              " ('one', 'NUM'),\n",
              " ('drawback', 'NOUN'),\n",
              " ('home', 'NOUN'),\n",
              " ('button', 'NOUN'),\n",
              " ('iphone', 'PROPN'),\n",
              " ('square', 'PROPN'),\n",
              " ('cares', 'VERB'),\n",
              " ('phone', 'NOUN'),\n",
              " ('works', 'NOUN')]"
            ]
          },
          "execution_count": 17,
          "metadata": {},
          "output_type": "execute_result"
        }
      ],
      "source": [
        "# Perform Part-of-Speech (POS) tagging\n",
        "pos_tags = [(token.text, token.pos_) for token in doc]\n",
        "pos_tags"
      ]
    },
    {
      "cell_type": "code",
      "execution_count": 2,
      "metadata": {
        "colab": {
          "base_uri": "https://localhost:8080/",
          "height": 52
        },
        "id": "6CYhM8kkW1sW",
        "outputId": "9e6b2702-4c0a-48fc-c971-1e6c0831ce00"
      },
      "outputs": [
        {
          "ename": "NameError",
          "evalue": "name 'doc' is not defined",
          "output_type": "error",
          "traceback": [
            "\u001b[31m---------------------------------------------------------------------------\u001b[39m",
            "\u001b[31mNameError\u001b[39m                                 Traceback (most recent call last)",
            "\u001b[36mCell\u001b[39m\u001b[36m \u001b[39m\u001b[32mIn[2]\u001b[39m\u001b[32m, line 4\u001b[39m\n\u001b[32m      1\u001b[39m \u001b[38;5;28;01mfrom\u001b[39;00m\u001b[38;5;250m \u001b[39m\u001b[34;01mspacy\u001b[39;00m\u001b[38;5;250m \u001b[39m\u001b[38;5;28;01mimport\u001b[39;00m displacy\n\u001b[32m      3\u001b[39m \u001b[38;5;66;03m# Visualize Named Entities\u001b[39;00m\n\u001b[32m----> \u001b[39m\u001b[32m4\u001b[39m displacy.render(\u001b[43mdoc\u001b[49m, style=\u001b[33m'\u001b[39m\u001b[33ment\u001b[39m\u001b[33m'\u001b[39m, jupyter=\u001b[38;5;28;01mTrue\u001b[39;00m)\n",
            "\u001b[31mNameError\u001b[39m: name 'doc' is not defined"
          ]
        }
      ],
      "source": [
        "from spacy import displacy\n",
        "\n",
        "# Visualize Named Entities\n",
        "displacy.render(doc, style='ent', jupyter=True)"
      ]
    },
    {
      "cell_type": "code",
      "execution_count": 20,
      "metadata": {
        "colab": {
          "base_uri": "https://localhost:8080/",
          "height": 529
        },
        "id": "ec7YIadUXJe_",
        "outputId": "773b6d15-86fa-4b42-a9b5-c39b3b97ceed"
      },
      "outputs": [
        {
          "ename": "ImportError",
          "evalue": "cannot import name 'display' from 'IPython.core.display' (/Users/mostafazamaniturk/.venvs/py313/lib/python3.13/site-packages/IPython/core/display.py)",
          "output_type": "error",
          "traceback": [
            "\u001b[31m---------------------------------------------------------------------------\u001b[39m",
            "\u001b[31mImportError\u001b[39m                               Traceback (most recent call last)",
            "\u001b[36mCell\u001b[39m\u001b[36m \u001b[39m\u001b[32mIn[20]\u001b[39m\u001b[32m, line 2\u001b[39m\n\u001b[32m      1\u001b[39m \u001b[38;5;66;03m# Visualize POS Tags\u001b[39;00m\n\u001b[32m----> \u001b[39m\u001b[32m2\u001b[39m \u001b[43mdisplacy\u001b[49m\u001b[43m.\u001b[49m\u001b[43mrender\u001b[49m\u001b[43m(\u001b[49m\u001b[43mdoc\u001b[49m\u001b[43m,\u001b[49m\u001b[43m \u001b[49m\u001b[43mstyle\u001b[49m\u001b[43m=\u001b[49m\u001b[33;43m'\u001b[39;49m\u001b[33;43mdep\u001b[39;49m\u001b[33;43m'\u001b[39;49m\u001b[43m,\u001b[49m\u001b[43m \u001b[49m\u001b[43mjupyter\u001b[49m\u001b[43m=\u001b[49m\u001b[38;5;28;43;01mTrue\u001b[39;49;00m\u001b[43m)\u001b[49m\n",
            "\u001b[36mFile \u001b[39m\u001b[32m~/.venvs/py313/lib/python3.13/site-packages/spacy/displacy/__init__.py:69\u001b[39m, in \u001b[36mrender\u001b[39m\u001b[34m(docs, style, page, minify, jupyter, options, manual)\u001b[39m\n\u001b[32m     65\u001b[39m     html = RENDER_WRAPPER(html)\n\u001b[32m     66\u001b[39m \u001b[38;5;28;01mif\u001b[39;00m jupyter \u001b[38;5;129;01mor\u001b[39;00m (jupyter \u001b[38;5;129;01mis\u001b[39;00m \u001b[38;5;28;01mNone\u001b[39;00m \u001b[38;5;129;01mand\u001b[39;00m is_in_jupyter()):\n\u001b[32m     67\u001b[39m     \u001b[38;5;66;03m# return HTML rendered by IPython display()\u001b[39;00m\n\u001b[32m     68\u001b[39m     \u001b[38;5;66;03m# See #4840 for details on span wrapper to disable mathjax\u001b[39;00m\n\u001b[32m---> \u001b[39m\u001b[32m69\u001b[39m     \u001b[38;5;28;01mfrom\u001b[39;00m\u001b[38;5;250m \u001b[39m\u001b[34;01mIPython\u001b[39;00m\u001b[34;01m.\u001b[39;00m\u001b[34;01mcore\u001b[39;00m\u001b[34;01m.\u001b[39;00m\u001b[34;01mdisplay\u001b[39;00m\u001b[38;5;250m \u001b[39m\u001b[38;5;28;01mimport\u001b[39;00m HTML, display\n\u001b[32m     71\u001b[39m     \u001b[38;5;28;01mreturn\u001b[39;00m display(HTML(\u001b[33m'\u001b[39m\u001b[33m<span class=\u001b[39m\u001b[33m\"\u001b[39m\u001b[33mtex2jax_ignore\u001b[39m\u001b[33m\"\u001b[39m\u001b[33m>\u001b[39m\u001b[38;5;132;01m{}\u001b[39;00m\u001b[33m</span>\u001b[39m\u001b[33m'\u001b[39m.format(html)))\n\u001b[32m     72\u001b[39m \u001b[38;5;28;01mreturn\u001b[39;00m html\n",
            "\u001b[31mImportError\u001b[39m: cannot import name 'display' from 'IPython.core.display' (/Users/mostafazamaniturk/.venvs/py313/lib/python3.13/site-packages/IPython/core/display.py)"
          ]
        }
      ],
      "source": [
        "# Visualize POS Tags\n",
        "displacy.render(doc, style='dep', jupyter=True)"
      ]
    },
    {
      "cell_type": "code",
      "execution_count": null,
      "metadata": {
        "id": "-pGRQBWpXMvD"
      },
      "outputs": [],
      "source": []
    }
  ],
  "metadata": {
    "colab": {
      "provenance": []
    },
    "kernelspec": {
      "display_name": "Python 3.13",
      "language": "python",
      "name": "py313"
    },
    "language_info": {
      "codemirror_mode": {
        "name": "ipython",
        "version": 3
      },
      "file_extension": ".py",
      "mimetype": "text/x-python",
      "name": "python",
      "nbconvert_exporter": "python",
      "pygments_lexer": "ipython3",
      "version": "3.13.5"
    }
  },
  "nbformat": 4,
  "nbformat_minor": 0
}
